{
 "cells": [
  {
   "cell_type": "code",
   "execution_count": 7,
   "id": "36635495",
   "metadata": {},
   "outputs": [
    {
     "name": "stdout",
     "output_type": "stream",
     "text": [
      "Requirement already satisfied: opencv-python in c:\\users\\user\\anaconda3\\lib\\site-packages (4.7.0.72)\n",
      "Requirement already satisfied: numpy>=1.17.0 in c:\\users\\user\\anaconda3\\lib\\site-packages (from opencv-python) (1.23.5)\n"
     ]
    }
   ],
   "source": [
    "!pip install opencv-python"
   ]
  },
  {
   "cell_type": "code",
   "execution_count": 37,
   "id": "e115d1ef",
   "metadata": {},
   "outputs": [
    {
     "name": "stdout",
     "output_type": "stream",
     "text": [
      "Collecting Pillow==9.3.0\n",
      "  Downloading Pillow-9.3.0-cp310-cp310-win_amd64.whl (2.5 MB)\n",
      "     ---------------------------------------- 2.5/2.5 MB 448.8 kB/s eta 0:00:00\n",
      "Installing collected packages: Pillow\n",
      "Successfully installed Pillow-9.4.0\n",
      "Note: you may need to restart the kernel to use updated packages.\n"
     ]
    }
   ],
   "source": [
    "pip install --ignore-installed Pillow==9.3.0"
   ]
  },
  {
   "cell_type": "code",
   "execution_count": 41,
   "id": "9887ea73",
   "metadata": {},
   "outputs": [
    {
     "name": "stdout",
     "output_type": "stream",
     "text": [
      "Collecting rembg[gpu]\n",
      "  Using cached rembg-2.0.49-py3-none-any.whl (26 kB)\n",
      "Requirement already satisfied: pooch in c:\\users\\user\\anaconda3\\lib\\site-packages (from rembg[gpu]) (1.4.0)\n",
      "Requirement already satisfied: scikit-image in c:\\users\\user\\anaconda3\\lib\\site-packages (from rembg[gpu]) (0.19.3)\n",
      "Collecting pymatting\n",
      "  Using cached PyMatting-1.1.8-py3-none-any.whl (47 kB)\n",
      "Requirement already satisfied: tqdm in c:\\users\\user\\anaconda3\\lib\\site-packages (from rembg[gpu]) (4.64.1)\n",
      "Collecting onnxruntime\n",
      "  Using cached onnxruntime-1.15.1-cp310-cp310-win_amd64.whl (6.7 MB)\n",
      "Requirement already satisfied: numpy in c:\\users\\user\\anaconda3\\lib\\site-packages (from rembg[gpu]) (1.23.5)\n",
      "Collecting opencv-python-headless\n",
      "  Using cached opencv_python_headless-4.8.0.74-cp37-abi3-win_amd64.whl (38.0 MB)\n",
      "Requirement already satisfied: scipy in c:\\users\\user\\anaconda3\\lib\\site-packages (from rembg[gpu]) (1.10.0)\n",
      "Requirement already satisfied: pillow in c:\\users\\user\\anaconda3\\lib\\site-packages (from rembg[gpu]) (9.4.0)\n",
      "Collecting onnxruntime-gpu\n",
      "  Downloading onnxruntime_gpu-1.15.1-cp310-cp310-win_amd64.whl (122.5 MB)\n",
      "     ------------------------------------ 122.5/122.5 MB 556.0 kB/s eta 0:00:00\n",
      "Requirement already satisfied: sympy in c:\\users\\user\\anaconda3\\lib\\site-packages (from onnxruntime->rembg[gpu]) (1.11.1)\n",
      "Requirement already satisfied: protobuf in c:\\users\\user\\anaconda3\\lib\\site-packages (from onnxruntime->rembg[gpu]) (4.23.3)\n",
      "Requirement already satisfied: packaging in c:\\users\\user\\anaconda3\\lib\\site-packages (from onnxruntime->rembg[gpu]) (22.0)\n",
      "Requirement already satisfied: flatbuffers in c:\\users\\user\\anaconda3\\lib\\site-packages (from onnxruntime->rembg[gpu]) (23.5.26)\n",
      "Collecting coloredlogs\n",
      "  Using cached coloredlogs-15.0.1-py2.py3-none-any.whl (46 kB)\n",
      "Requirement already satisfied: requests in c:\\users\\user\\anaconda3\\lib\\site-packages (from pooch->rembg[gpu]) (2.28.1)\n",
      "Requirement already satisfied: appdirs in c:\\users\\user\\anaconda3\\lib\\site-packages (from pooch->rembg[gpu]) (1.4.4)\n",
      "Requirement already satisfied: numba!=0.49.0 in c:\\users\\user\\anaconda3\\lib\\site-packages (from pymatting->rembg[gpu]) (0.56.4)\n",
      "Requirement already satisfied: PyWavelets>=1.1.1 in c:\\users\\user\\anaconda3\\lib\\site-packages (from scikit-image->rembg[gpu]) (1.4.1)\n",
      "Requirement already satisfied: imageio>=2.4.1 in c:\\users\\user\\anaconda3\\lib\\site-packages (from scikit-image->rembg[gpu]) (2.26.0)\n",
      "Requirement already satisfied: tifffile>=2019.7.26 in c:\\users\\user\\anaconda3\\lib\\site-packages (from scikit-image->rembg[gpu]) (2021.7.2)\n",
      "Requirement already satisfied: networkx>=2.2 in c:\\users\\user\\anaconda3\\lib\\site-packages (from scikit-image->rembg[gpu]) (2.8.4)\n",
      "Requirement already satisfied: colorama in c:\\users\\user\\anaconda3\\lib\\site-packages (from tqdm->rembg[gpu]) (0.4.6)\n",
      "Requirement already satisfied: setuptools in c:\\users\\user\\anaconda3\\lib\\site-packages (from numba!=0.49.0->pymatting->rembg[gpu]) (65.6.3)\n",
      "Requirement already satisfied: llvmlite<0.40,>=0.39.0dev0 in c:\\users\\user\\anaconda3\\lib\\site-packages (from numba!=0.49.0->pymatting->rembg[gpu]) (0.39.1)\n",
      "Collecting humanfriendly>=9.1\n",
      "  Using cached humanfriendly-10.0-py2.py3-none-any.whl (86 kB)\n",
      "Requirement already satisfied: charset-normalizer<3,>=2 in c:\\users\\user\\anaconda3\\lib\\site-packages (from requests->pooch->rembg[gpu]) (2.0.4)\n",
      "Requirement already satisfied: certifi>=2017.4.17 in c:\\users\\user\\anaconda3\\lib\\site-packages (from requests->pooch->rembg[gpu]) (2022.12.7)\n",
      "Requirement already satisfied: urllib3<1.27,>=1.21.1 in c:\\users\\user\\anaconda3\\lib\\site-packages (from requests->pooch->rembg[gpu]) (1.26.14)\n",
      "Requirement already satisfied: idna<4,>=2.5 in c:\\users\\user\\anaconda3\\lib\\site-packages (from requests->pooch->rembg[gpu]) (3.4)\n",
      "Requirement already satisfied: mpmath>=0.19 in c:\\users\\user\\anaconda3\\lib\\site-packages (from sympy->onnxruntime->rembg[gpu]) (1.2.1)\n",
      "Requirement already satisfied: pyreadline3 in c:\\users\\user\\anaconda3\\lib\\site-packages (from humanfriendly>=9.1->coloredlogs->onnxruntime->rembg[gpu]) (3.4.1)\n",
      "Installing collected packages: opencv-python-headless, humanfriendly, pymatting, coloredlogs, onnxruntime-gpu, onnxruntime, rembg\n",
      "Note: you may need to restart the kernel to use updated packages.\n"
     ]
    },
    {
     "name": "stderr",
     "output_type": "stream",
     "text": [
      "ERROR: Could not install packages due to an OSError: [WinError 5] Access is denied: 'C:\\\\Users\\\\User\\\\anaconda3\\\\Lib\\\\site-packages\\\\cv2\\\\cv2.pyd'\n",
      "Consider using the `--user` option or check the permissions.\n",
      "\n"
     ]
    }
   ],
   "source": [
    "pip install rembg[gpu]"
   ]
  },
  {
   "cell_type": "code",
   "execution_count": 42,
   "id": "a95a6780",
   "metadata": {},
   "outputs": [
    {
     "ename": "AttributeError",
     "evalue": "'NoneType' object has no attribute 'copy'",
     "output_type": "error",
     "traceback": [
      "\u001b[1;31m---------------------------------------------------------------------------\u001b[0m",
      "\u001b[1;31mAttributeError\u001b[0m                            Traceback (most recent call last)",
      "Cell \u001b[1;32mIn[42], line 8\u001b[0m\n\u001b[0;32m      5\u001b[0m \u001b[38;5;28;01mfrom\u001b[39;00m  \u001b[38;5;21;01mPIL\u001b[39;00m  \u001b[38;5;28;01mimport\u001b[39;00m Image\n\u001b[0;32m      7\u001b[0m img \u001b[38;5;241m=\u001b[39m cv\u001b[38;5;241m.\u001b[39mimread(\u001b[38;5;124m'\u001b[39m\u001b[38;5;124mkelinci.jpg\u001b[39m\u001b[38;5;124m'\u001b[39m, cv\u001b[38;5;241m.\u001b[39mIMREAD_UNCHANGED)\n\u001b[1;32m----> 8\u001b[0m original \u001b[38;5;241m=\u001b[39m \u001b[43mimg\u001b[49m\u001b[38;5;241;43m.\u001b[39;49m\u001b[43mcopy\u001b[49m()\n\u001b[0;32m     10\u001b[0m l \u001b[38;5;241m=\u001b[39m \u001b[38;5;28mint\u001b[39m(\u001b[38;5;28mmax\u001b[39m(\u001b[38;5;241m5\u001b[39m, \u001b[38;5;241m6\u001b[39m))\n\u001b[0;32m     11\u001b[0m u \u001b[38;5;241m=\u001b[39m \u001b[38;5;28mint\u001b[39m(\u001b[38;5;28mmin\u001b[39m(\u001b[38;5;241m6\u001b[39m, \u001b[38;5;241m6\u001b[39m))\n",
      "\u001b[1;31mAttributeError\u001b[0m: 'NoneType' object has no attribute 'copy'"
     ]
    }
   ],
   "source": [
    "import numpy as np\n",
    "import cv2 as cv\n",
    "from matplotlib import pyplot as plt\n",
    "import sys\n",
    "from  PIL  import Image\n",
    "\n",
    "img = cv.imread('kelinci.jpg', cv.IMREAD_UNCHANGED)\n",
    "original = img.copy()\n",
    "\n",
    "l = int(max(5, 6))\n",
    "u = int(min(6, 6))\n",
    "\n",
    "ed = cv.cvtColor(img, cv.COLOR_BGR2GRAY)\n",
    "edges = cv.GaussianBlur(img, (21, 51), 3)\n",
    "edges = cv.cvtColor(edges, cv.COLOR_BGR2GRAY)\n",
    "edges = cv.Canny(edges, l, u)\n",
    "\n",
    "_, thresh = cv.threshold(edges, 0, 255, cv.THRESH_BINARY  + cv.THRESH_OTSU)\n",
    "kernel = cv.getStructuringElement(cv.MORPH_ELLIPSE, (5, 5))\n",
    "mask = cv.morphologyEx(thresh, cv.MORPH_CLOSE, kernel, iterations=4)\n",
    "\n",
    "data = mask.tolist()\n",
    "sys.setrecursionlimit(10**8)\n",
    "for i in  range(len(data)):\n",
    "    for j in  range(len(data[i])):\n",
    "        if data[i][j] !=  255:\n",
    "            data[i][j] =  -1\n",
    "        else:\n",
    "            break\n",
    "    for j in  range(len(data[i])-1, -1, -1):\n",
    "        if data[i][j] !=  255:\n",
    "            data[i][j] =  -1\n",
    "        else:\n",
    "            break\n",
    "image = np.array(data)\n",
    "image[image !=  -1] =  255\n",
    "image[image ==  -1] =  0\n",
    "\n",
    "mask = np.array(image, np.uint8)\n",
    "\n",
    "result = cv.bitwise_and(original, original, mask=mask)\n",
    "result[mask ==  0] =  255\n",
    "cv.imwrite('bg.png', result)\n",
    "\n",
    "img = Image.open('bg.png')\n",
    "img.convert(\"RGBA\")\n",
    "datas = img.getdata()\n",
    "\n",
    "newData = []\n",
    "for item in datas:\n",
    "    if item[0] ==  255  and item[1] ==  255  and item[2] ==  255:\n",
    "        newData.append((255, 255, 255, 0))\n",
    "    else:\n",
    "        newData.append(item)\n",
    "\n",
    "img.putdata(newData)\n",
    "img.save(\"kelinci\", \"PNG\")"
   ]
  },
  {
   "cell_type": "code",
   "execution_count": null,
   "id": "b9ba322f",
   "metadata": {},
   "outputs": [],
   "source": []
  },
  {
   "cell_type": "code",
   "execution_count": null,
   "id": "1fbc28dd",
   "metadata": {},
   "outputs": [],
   "source": []
  }
 ],
 "metadata": {
  "kernelspec": {
   "display_name": "Python 3 (ipykernel)",
   "language": "python",
   "name": "python3"
  },
  "language_info": {
   "codemirror_mode": {
    "name": "ipython",
    "version": 3
   },
   "file_extension": ".py",
   "mimetype": "text/x-python",
   "name": "python",
   "nbconvert_exporter": "python",
   "pygments_lexer": "ipython3",
   "version": "3.10.9"
  }
 },
 "nbformat": 4,
 "nbformat_minor": 5
}
